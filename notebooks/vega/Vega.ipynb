{
 "cells": [
  {
   "cell_type": "markdown",
   "metadata": {},
   "source": [
    "# Basic Vega Visualization"
   ]
  },
  {
   "cell_type": "code",
   "execution_count": 1,
   "metadata": {
    "collapsed": false
   },
   "outputs": [],
   "source": [
    "from vega import Vega"
   ]
  },
  {
   "cell_type": "code",
   "execution_count": 2,
   "metadata": {
    "collapsed": false
   },
   "outputs": [
    {
     "data": {
      "text/html": [
       "<div class=\"vega-embed\" id=\"e4a57d3d-6d87-497f-ad2b-8673bb6215fa\"></div>\n",
       "\n",
       "<style>\n",
       ".vega-embed svg, .vega-embed canvas {\n",
       "  border: 1px dotted gray;\n",
       "}\n",
       "\n",
       ".vega-embed .vega-actions a {\n",
       "  margin-right: 6px;\n",
       "}\n",
       "</style>\n"
      ]
     },
     "metadata": {
      "jupyter-vega": "#e4a57d3d-6d87-497f-ad2b-8673bb6215fa"
     },
     "output_type": "display_data"
    },
    {
     "data": {
      "application/javascript": [
       "var spec = {\"padding\": {\"left\": 30, \"right\": 10, \"top\": 10, \"bottom\": 30}, \"marks\": [{\"type\": \"rect\", \"properties\": {\"update\": {\"fill\": {\"value\": \"steelblue\"}}, \"enter\": {\"width\": {\"band\": true, \"scale\": \"x\", \"offset\": -1}, \"y\": {\"field\": \"y\", \"scale\": \"y\"}, \"x\": {\"field\": \"x\", \"scale\": \"x\"}, \"y2\": {\"scale\": \"y\", \"value\": 0}}, \"hover\": {\"fill\": {\"value\": \"red\"}}}, \"from\": {\"data\": \"table\"}}], \"height\": 200, \"data\": [{\"values\": [{\"y\": 28, \"x\": 1}, {\"y\": 55, \"x\": 2}, {\"y\": 43, \"x\": 3}, {\"y\": 91, \"x\": 4}, {\"y\": 81, \"x\": 5}, {\"y\": 53, \"x\": 6}, {\"y\": 19, \"x\": 7}, {\"y\": 87, \"x\": 8}, {\"y\": 52, \"x\": 9}, {\"y\": 48, \"x\": 10}, {\"y\": 24, \"x\": 11}, {\"y\": 49, \"x\": 12}, {\"y\": 87, \"x\": 13}, {\"y\": 66, \"x\": 14}, {\"y\": 17, \"x\": 15}, {\"y\": 27, \"x\": 16}, {\"y\": 68, \"x\": 17}, {\"y\": 16, \"x\": 18}, {\"y\": 49, \"x\": 19}, {\"y\": 15, \"x\": 20}], \"name\": \"table\"}], \"scales\": [{\"type\": \"ordinal\", \"range\": \"width\", \"name\": \"x\", \"domain\": {\"field\": \"x\", \"data\": \"table\"}}, {\"type\": \"linear\", \"range\": \"height\", \"name\": \"y\", \"nice\": true, \"domain\": {\"field\": \"y\", \"data\": \"table\"}}], \"axes\": [{\"type\": \"x\", \"scale\": \"x\"}, {\"type\": \"y\", \"scale\": \"y\"}], \"width\": 400};\n",
       "var selector = \"#e4a57d3d-6d87-497f-ad2b-8673bb6215fa\";\n",
       "var type = \"vega\";\n",
       "\n",
       "var output_area = this;\n",
       "require(['nbextensions/jupyter-vega/index'], function(vega) {\n",
       "  vega.render(selector, spec, type, output_area);\n",
       "}, function (err) {\n",
       "  if (err.requireType !== 'scripterror') {\n",
       "    throw(err);\n",
       "  }\n",
       "});\n"
      ]
     },
     "metadata": {
      "jupyter-vega": "#e4a57d3d-6d87-497f-ad2b-8673bb6215fa"
     },
     "output_type": "display_data"
    },
    {
     "data": {
      "image/png": "[encoded data removed]"
     },
     "metadata": {
      "jupyter-vega": "#e4a57d3d-6d87-497f-ad2b-8673bb6215fa"
     },
     "output_type": "display_data"
    }
   ],
   "source": [
    "Vega({\n",
    "  \"width\": 400,\n",
    "  \"height\": 200,\n",
    "  \"padding\": {\"top\": 10, \"left\": 30, \"bottom\": 30, \"right\": 10},\n",
    "  \"data\": [\n",
    "    {\n",
    "      \"name\": \"table\",\n",
    "      \"values\": [\n",
    "        {\"x\": 1,  \"y\": 28}, {\"x\": 2,  \"y\": 55},\n",
    "        {\"x\": 3,  \"y\": 43}, {\"x\": 4,  \"y\": 91},\n",
    "        {\"x\": 5,  \"y\": 81}, {\"x\": 6,  \"y\": 53},\n",
    "        {\"x\": 7,  \"y\": 19}, {\"x\": 8,  \"y\": 87},\n",
    "        {\"x\": 9,  \"y\": 52}, {\"x\": 10, \"y\": 48},\n",
    "        {\"x\": 11, \"y\": 24}, {\"x\": 12, \"y\": 49},\n",
    "        {\"x\": 13, \"y\": 87}, {\"x\": 14, \"y\": 66},\n",
    "        {\"x\": 15, \"y\": 17}, {\"x\": 16, \"y\": 27},\n",
    "        {\"x\": 17, \"y\": 68}, {\"x\": 18, \"y\": 16},\n",
    "        {\"x\": 19, \"y\": 49}, {\"x\": 20, \"y\": 15}\n",
    "      ]\n",
    "    }\n",
    "  ],\n",
    "  \"scales\": [\n",
    "    {\n",
    "      \"name\": \"x\",\n",
    "      \"type\": \"ordinal\",\n",
    "      \"range\": \"width\",\n",
    "      \"domain\": {\"data\": \"table\", \"field\": \"x\"}\n",
    "    },\n",
    "    {\n",
    "      \"name\": \"y\",\n",
    "      \"type\": \"linear\",\n",
    "      \"range\": \"height\",\n",
    "      \"domain\": {\"data\": \"table\", \"field\": \"y\"},\n",
    "      \"nice\": True\n",
    "    }\n",
    "  ],\n",
    "  \"axes\": [\n",
    "    {\"type\": \"x\", \"scale\": \"x\"},\n",
    "    {\"type\": \"y\", \"scale\": \"y\"}\n",
    "  ],\n",
    "  \"marks\": [\n",
    "    {\n",
    "      \"type\": \"rect\",\n",
    "      \"from\": {\"data\": \"table\"},\n",
    "      \"properties\": {\n",
    "        \"enter\": {\n",
    "          \"x\": {\"scale\": \"x\", \"field\": \"x\"},\n",
    "          \"width\": {\"scale\": \"x\", \"band\": True, \"offset\": -1},\n",
    "          \"y\": {\"scale\": \"y\", \"field\": \"y\"},\n",
    "          \"y2\": {\"scale\": \"y\", \"value\": 0}\n",
    "        },\n",
    "        \"update\": {\n",
    "          \"fill\": {\"value\": \"steelblue\"}\n",
    "        },\n",
    "        \"hover\": {\n",
    "          \"fill\": {\"value\": \"red\"}\n",
    "        }\n",
    "      }\n",
    "    }\n",
    "  ]\n",
    "})"
   ]
  },
  {
   "cell_type": "code",
   "execution_count": 14,
   "metadata": {
    "collapsed": false
   },
   "outputs": [
    {
     "data": {
      "text/html": [
       "<div class=\"vega-embed\" id=\"2f12a4a2-8e9e-4f03-943c-ae00b0a2b082\"></div>\n",
       "\n",
       "<style>\n",
       ".vega-embed svg, .vega-embed canvas {\n",
       "  border: 1px dotted gray;\n",
       "}\n",
       "\n",
       ".vega-embed .vega-actions a {\n",
       "  margin-right: 6px;\n",
       "}\n",
       "</style>\n"
      ]
     },
     "metadata": {
      "jupyter-vega": "#2f12a4a2-8e9e-4f03-943c-ae00b0a2b082"
     },
     "output_type": "display_data"
    },
    {
     "data": {
      "application/javascript": [
       "var spec = {\"width\": 600, \"scales\": [{\"type\": \"ordinal\", \"range\": \"width\", \"round\": true, \"name\": \"gx\", \"domain\": {\"field\": \"data\", \"data\": \"fields\"}}, {\"type\": \"ordinal\", \"domain\": {\"field\": \"data\", \"data\": \"fields\"}, \"round\": true, \"range\": \"height\", \"name\": \"gy\", \"reverse\": true}, {\"type\": \"ordinal\", \"domain\": {\"field\": \"species\", \"data\": \"iris\"}, \"range\": \"category10\", \"name\": \"c\"}], \"marks\": [{\"type\": \"group\", \"properties\": {\"enter\": {\"x\": {\"field\": \"a.data\", \"scale\": \"gx\"}, \"height\": {\"band\": true, \"scale\": \"gy\", \"offset\": -35}, \"fill\": {\"value\": \"#fff\"}, \"stroke\": {\"value\": \"#ddd\"}, \"width\": {\"band\": true, \"scale\": \"gx\", \"offset\": -35}, \"y\": {\"field\": \"b.data\", \"scale\": \"gy\"}}}, \"scales\": [{\"range\": \"width\", \"round\": true, \"zero\": false, \"name\": \"x\", \"domain\": {\"field\": {\"parent\": \"a.data\"}, \"data\": \"iris\"}}, {\"range\": \"height\", \"round\": true, \"zero\": false, \"name\": \"y\", \"domain\": {\"field\": {\"parent\": \"b.data\"}, \"data\": \"iris\"}}], \"marks\": [{\"type\": \"symbol\", \"properties\": {\"update\": {\"stroke\": {\"value\": \"transparent\"}, \"size\": {\"value\": 36}}, \"enter\": {\"fill\": {\"field\": \"species\", \"scale\": \"c\"}, \"y\": {\"field\": {\"datum\": {\"parent\": \"b.data\"}}, \"scale\": \"y\"}, \"x\": {\"field\": {\"datum\": {\"parent\": \"a.data\"}}, \"scale\": \"x\"}, \"fillOpacity\": {\"value\": 0.5}}, \"hover\": {\"stroke\": {\"value\": \"white\"}, \"size\": {\"value\": 100}}}, \"from\": {\"data\": \"iris\"}}], \"from\": {\"transform\": [{\"type\": \"cross\"}], \"data\": \"fields\"}, \"axes\": [{\"type\": \"x\", \"scale\": \"x\", \"ticks\": 5}, {\"type\": \"y\", \"scale\": \"y\", \"ticks\": 5}]}], \"legends\": [{\"fill\": \"c\", \"properties\": {\"symbols\": {\"stroke\": {\"value\": \"transparent\"}, \"fillOpacity\": {\"value\": 0.5}}}, \"title\": \"Species\", \"offset\": 10}], \"height\": 600};\n",
       "var selector = \"#2f12a4a2-8e9e-4f03-943c-ae00b0a2b082\";\n",
       "var type = \"vega\";\n",
       "\n",
       "var output_area = this;\n",
       "require(['nbextensions/jupyter-vega/index'], function(vega) {\n",
       "  vega.render(selector, spec, type, output_area);\n",
       "}, function (err) {\n",
       "  if (err.requireType !== 'scripterror') {\n",
       "    throw(err);\n",
       "  }\n",
       "});\n"
      ]
     },
     "metadata": {
      "jupyter-vega": "#2f12a4a2-8e9e-4f03-943c-ae00b0a2b082"
     },
     "output_type": "display_data"
    }
   ],
   "source": [
    "import pandas as pd\n",
    "df = pd.read_json('./data/iris.json')\n",
    "Vega({\n",
    "  \"width\": 600,\n",
    "  \"height\": 600,\n",
    "  \"data\": [\n",
    "    {\n",
    "      \"name\": \"iris\",\n",
    "      \"url\": \"./data/iris.json\"\n",
    "    },\n",
    "    {\n",
    "      \"name\": \"fields\",\n",
    "      \"values\": [\"petalWidth\", \"petalLength\", \"sepalWidth\", \"sepalLength\"]\n",
    "    }\n",
    "  ],\n",
    "  \"scales\": [\n",
    "    {\n",
    "      \"name\": \"gx\",\n",
    "      \"type\": \"ordinal\",\n",
    "      \"range\": \"width\",\n",
    "      \"round\": True,\n",
    "      \"domain\": {\"data\": \"fields\", \"field\": \"data\"}\n",
    "    },\n",
    "    {\n",
    "      \"name\": \"gy\",\n",
    "      \"type\": \"ordinal\",\n",
    "      \"range\": \"height\",\n",
    "      \"round\": True,\n",
    "      \"reverse\": True,\n",
    "      \"domain\": {\"data\": \"fields\", \"field\": \"data\"}\n",
    "    },\n",
    "    {\n",
    "      \"name\": \"c\",\n",
    "      \"type\": \"ordinal\",\n",
    "      \"domain\": {\"data\": \"iris\", \"field\": \"species\"},\n",
    "      \"range\": \"category10\"\n",
    "    }\n",
    "  ],\n",
    "  \"legends\": [\n",
    "    {\n",
    "      \"fill\": \"c\",\n",
    "      \"title\": \"Species\",\n",
    "      \"offset\": 10,\n",
    "      \"properties\": {\n",
    "        \"symbols\": {\n",
    "          \"fillOpacity\": {\"value\": 0.5},\n",
    "          \"stroke\": {\"value\": \"transparent\"}\n",
    "        }\n",
    "      }\n",
    "    }\n",
    "  ],\n",
    "  \"marks\": [\n",
    "    {\n",
    "      \"type\": \"group\",\n",
    "      \"from\": {\n",
    "        \"data\": \"fields\",\n",
    "        \"transform\": [{\"type\": \"cross\"}]\n",
    "      },\n",
    "      \"properties\": {\n",
    "        \"enter\": {\n",
    "          \"x\": {\"scale\": \"gx\", \"field\": \"a.data\"},\n",
    "          \"y\": {\"scale\": \"gy\", \"field\": \"b.data\"},\n",
    "          \"width\": {\"scale\": \"gx\", \"band\": True, \"offset\":-35},\n",
    "          \"height\": {\"scale\": \"gy\", \"band\": True, \"offset\":-35},\n",
    "          \"fill\": {\"value\": \"#fff\"},\n",
    "          \"stroke\": {\"value\": \"#ddd\"}\n",
    "        }\n",
    "      },\n",
    "      \"scales\": [\n",
    "        {\n",
    "          \"name\": \"x\",\n",
    "          \"range\": \"width\",\n",
    "          \"zero\": False,\n",
    "          \"round\": True,\n",
    "          \"domain\": {\"data\": \"iris\", \"field\": {\"parent\": \"a.data\"}}\n",
    "        },\n",
    "        {\n",
    "          \"name\": \"y\",\n",
    "          \"range\": \"height\",\n",
    "          \"zero\": False,\n",
    "          \"round\": True,\n",
    "          \"domain\": {\"data\": \"iris\", \"field\": {\"parent\": \"b.data\"}}\n",
    "        }\n",
    "      ],\n",
    "      \"axes\": [\n",
    "        {\"type\": \"x\", \"scale\": \"x\", \"ticks\": 5},\n",
    "        {\"type\": \"y\", \"scale\": \"y\", \"ticks\": 5}\n",
    "      ],\n",
    "      \"marks\": [\n",
    "        {\n",
    "          \"type\": \"symbol\",\n",
    "          \"from\": {\"data\": \"iris\"},\n",
    "          \"properties\": {\n",
    "            \"enter\": {\n",
    "              \"x\": {\"scale\": \"x\", \"field\": {\"datum\": {\"parent\": \"a.data\"}}},\n",
    "              \"y\": {\"scale\": \"y\", \"field\": {\"datum\": {\"parent\": \"b.data\"}}},\n",
    "              \"fill\": {\"scale\": \"c\", \"field\": \"species\"},\n",
    "              \"fillOpacity\": {\"value\": 0.5}\n",
    "            },\n",
    "            \"update\": {\n",
    "              \"size\": {\"value\": 36},\n",
    "              \"stroke\": {\"value\": \"transparent\"}\n",
    "            },\n",
    "            \"hover\": {\n",
    "              \"size\": {\"value\": 100},\n",
    "              \"stroke\": {\"value\": \"white\"}\n",
    "            }\n",
    "          }\n",
    "        }\n",
    "      ]\n",
    "    }\n",
    "  ]\n",
    "}, df)"
   ]
  },
  {
   "cell_type": "code",
   "execution_count": null,
   "metadata": {
    "collapsed": true
   },
   "outputs": [],
   "source": []
  }
 ],
 "metadata": {
  "kernelspec": {
   "display_name": "Python 3.5",
   "language": "python",
   "name": "python3"
  },
  "language_info": {
   "codemirror_mode": {
    "name": "ipython",
    "version": 3
   },
   "file_extension": ".py",
   "mimetype": "text/x-python",
   "name": "python",
   "nbconvert_exporter": "python",
   "pygments_lexer": "ipython3",
   "version": "3.4.3+"
  },
  "widgets": {
   "state": {},
   "version": "1.1.2"
  }
 },
 "nbformat": 4,
 "nbformat_minor": 1
}
